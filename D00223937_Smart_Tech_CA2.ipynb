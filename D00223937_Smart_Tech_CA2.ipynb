{
  "cells": [
    {
      "cell_type": "markdown",
      "metadata": {
        "id": "view-in-github",
        "colab_type": "text"
      },
      "source": [
        "<a href=\"https://colab.research.google.com/github/ChiaHouTan/ADS_2020_-ALT_ASS_Chia_Hou_Tan/blob/master/D00223937_Smart_Tech_CA2.ipynb\" target=\"_parent\"><img src=\"https://colab.research.google.com/assets/colab-badge.svg\" alt=\"Open In Colab\"/></a>"
      ]
    },
    {
      "cell_type": "code",
      "source": [
        "!git clone https://github.com/ChiaHouTan/SmartTechCa2.git"
      ],
      "metadata": {
        "colab": {
          "base_uri": "https://localhost:8080/"
        },
        "id": "yftadowTWln6",
        "outputId": "0d23f9e1-c454-4d88-a291-7d700f481421"
      },
      "execution_count": 1,
      "outputs": [
        {
          "output_type": "stream",
          "name": "stdout",
          "text": [
            "Cloning into 'SmartTechCa2'...\n",
            "remote: Enumerating objects: 5946, done.\u001b[K\n",
            "remote: Counting objects: 100% (9/9), done.\u001b[K\n",
            "remote: Compressing objects: 100% (7/7), done.\u001b[K\n",
            "remote: Total 5946 (delta 1), reused 3 (delta 0), pack-reused 5937\u001b[K\n",
            "Receiving objects: 100% (5946/5946), 87.59 MiB | 16.43 MiB/s, done.\n",
            "Resolving deltas: 100% (1/1), done.\n",
            "Updating files: 100% (5937/5937), done.\n"
          ]
        }
      ]
    },
    {
      "cell_type": "code",
      "source": [
        "!ls"
      ],
      "metadata": {
        "colab": {
          "base_uri": "https://localhost:8080/"
        },
        "id": "cVmAmnAN_lkO",
        "outputId": "3712dcc6-3d07-40d8-bb99-f9017e80db28"
      },
      "execution_count": 2,
      "outputs": [
        {
          "output_type": "stream",
          "name": "stdout",
          "text": [
            "sample_data  SmartTechCa2\n"
          ]
        }
      ]
    },
    {
      "cell_type": "code",
      "execution_count": 3,
      "metadata": {
        "id": "NhFuT3pd8A6s"
      },
      "outputs": [],
      "source": [
        "import numpy as np\n",
        "import matplotlib.pyplot as plt\n",
        "import keras\n",
        "from keras.models import Sequential\n",
        "from keras.optimizers import Adam\n",
        "from keras.layers import Dense, Convolution2D, MaxPooling2D, Dropout, Flatten\n",
        "import cv2\n",
        "import pandas as pd\n",
        "import random\n",
        "import os\n",
        "import ntpath\n",
        "from sklearn.utils import shuffle\n",
        "from sklearn.model_selection import train_test_split\n",
        "import matplotlib.image as mpimg\n",
        "\n",
        "#git add .\n",
        "#git status\n",
        "#git commit -m \"First Commit\" then after finish everything do below\n",
        "#git branch -M main\n",
        "#git push -uf origin main"
      ]
    },
    {
      "cell_type": "code",
      "source": [
        "datadir = \"SmartTechCa2\" #data of car picture\n",
        "columns = ['center', 'left', 'right', 'steering', 'throttle', 'reverse', 'speed']\n",
        "data = pd.read_csv(os.path.join(datadir, 'driving_log.csv'), names = columns)\n",
        "print(data.head)"
      ],
      "metadata": {
        "colab": {
          "base_uri": "https://localhost:8080/"
        },
        "id": "Ilqeo0PhAW7U",
        "outputId": "7e12d433-4825-4547-e3b3-4d067b6b2efe"
      },
      "execution_count": 4,
      "outputs": [
        {
          "output_type": "stream",
          "name": "stdout",
          "text": [
            "<bound method NDFrame.head of                                                  center  \\\n",
            "0     C:\\Users\\tanch\\Downloads\\simulator-windows-64\\...   \n",
            "1     C:\\Users\\tanch\\Downloads\\simulator-windows-64\\...   \n",
            "2     C:\\Users\\tanch\\Downloads\\simulator-windows-64\\...   \n",
            "3     C:\\Users\\tanch\\Downloads\\simulator-windows-64\\...   \n",
            "4     C:\\Users\\tanch\\Downloads\\simulator-windows-64\\...   \n",
            "...                                                 ...   \n",
            "1298  C:\\Users\\tanch\\Downloads\\simulator-windows-64\\...   \n",
            "1299  C:\\Users\\tanch\\Downloads\\simulator-windows-64\\...   \n",
            "1300  C:\\Users\\tanch\\Downloads\\simulator-windows-64\\...   \n",
            "1301  C:\\Users\\tanch\\Downloads\\simulator-windows-64\\...   \n",
            "1302  C:\\Users\\tanch\\Downloads\\simulator-windows-64\\...   \n",
            "\n",
            "                                                   left  \\\n",
            "0      C:\\Users\\tanch\\Downloads\\simulator-windows-64...   \n",
            "1      C:\\Users\\tanch\\Downloads\\simulator-windows-64...   \n",
            "2      C:\\Users\\tanch\\Downloads\\simulator-windows-64...   \n",
            "3      C:\\Users\\tanch\\Downloads\\simulator-windows-64...   \n",
            "4      C:\\Users\\tanch\\Downloads\\simulator-windows-64...   \n",
            "...                                                 ...   \n",
            "1298   C:\\Users\\tanch\\Downloads\\simulator-windows-64...   \n",
            "1299   C:\\Users\\tanch\\Downloads\\simulator-windows-64...   \n",
            "1300   C:\\Users\\tanch\\Downloads\\simulator-windows-64...   \n",
            "1301   C:\\Users\\tanch\\Downloads\\simulator-windows-64...   \n",
            "1302   C:\\Users\\tanch\\Downloads\\simulator-windows-64...   \n",
            "\n",
            "                                                  right  steering  throttle  \\\n",
            "0      C:\\Users\\tanch\\Downloads\\simulator-windows-64...       0.0       0.0   \n",
            "1      C:\\Users\\tanch\\Downloads\\simulator-windows-64...       0.0       0.0   \n",
            "2      C:\\Users\\tanch\\Downloads\\simulator-windows-64...       0.0       0.0   \n",
            "3      C:\\Users\\tanch\\Downloads\\simulator-windows-64...       0.0       0.0   \n",
            "4      C:\\Users\\tanch\\Downloads\\simulator-windows-64...       0.0       0.0   \n",
            "...                                                 ...       ...       ...   \n",
            "1298   C:\\Users\\tanch\\Downloads\\simulator-windows-64...       0.0       0.0   \n",
            "1299   C:\\Users\\tanch\\Downloads\\simulator-windows-64...       0.0       0.0   \n",
            "1300   C:\\Users\\tanch\\Downloads\\simulator-windows-64...       0.0       0.0   \n",
            "1301   C:\\Users\\tanch\\Downloads\\simulator-windows-64...       0.0       0.0   \n",
            "1302   C:\\Users\\tanch\\Downloads\\simulator-windows-64...       0.0       0.0   \n",
            "\n",
            "      reverse      speed  \n",
            "0           0   0.000079  \n",
            "1           0   0.000078  \n",
            "2           0   0.000080  \n",
            "3           0   0.000078  \n",
            "4           0   0.000079  \n",
            "...       ...        ...  \n",
            "1298        0  24.805020  \n",
            "1299        0  24.555970  \n",
            "1300        0  24.260420  \n",
            "1301        0  24.016840  \n",
            "1302        0  23.775710  \n",
            "\n",
            "[1303 rows x 7 columns]>\n"
          ]
        }
      ]
    },
    {
      "cell_type": "code",
      "source": [
        "columns = ['center', 'left', 'right', 'steering', 'throttle', 'reverse', 'speed']\n",
        "data = pd.read_csv(os.path.join(datadir, 'driving_log.csv'), names = columns)\n",
        "print(data.head)"
      ],
      "metadata": {
        "colab": {
          "base_uri": "https://localhost:8080/"
        },
        "id": "GINDtSN6CloV",
        "outputId": "75a8e351-5303-4989-955a-08d0729510d6"
      },
      "execution_count": 5,
      "outputs": [
        {
          "output_type": "stream",
          "name": "stdout",
          "text": [
            "<bound method NDFrame.head of                                                  center  \\\n",
            "0     C:\\Users\\tanch\\Downloads\\simulator-windows-64\\...   \n",
            "1     C:\\Users\\tanch\\Downloads\\simulator-windows-64\\...   \n",
            "2     C:\\Users\\tanch\\Downloads\\simulator-windows-64\\...   \n",
            "3     C:\\Users\\tanch\\Downloads\\simulator-windows-64\\...   \n",
            "4     C:\\Users\\tanch\\Downloads\\simulator-windows-64\\...   \n",
            "...                                                 ...   \n",
            "1298  C:\\Users\\tanch\\Downloads\\simulator-windows-64\\...   \n",
            "1299  C:\\Users\\tanch\\Downloads\\simulator-windows-64\\...   \n",
            "1300  C:\\Users\\tanch\\Downloads\\simulator-windows-64\\...   \n",
            "1301  C:\\Users\\tanch\\Downloads\\simulator-windows-64\\...   \n",
            "1302  C:\\Users\\tanch\\Downloads\\simulator-windows-64\\...   \n",
            "\n",
            "                                                   left  \\\n",
            "0      C:\\Users\\tanch\\Downloads\\simulator-windows-64...   \n",
            "1      C:\\Users\\tanch\\Downloads\\simulator-windows-64...   \n",
            "2      C:\\Users\\tanch\\Downloads\\simulator-windows-64...   \n",
            "3      C:\\Users\\tanch\\Downloads\\simulator-windows-64...   \n",
            "4      C:\\Users\\tanch\\Downloads\\simulator-windows-64...   \n",
            "...                                                 ...   \n",
            "1298   C:\\Users\\tanch\\Downloads\\simulator-windows-64...   \n",
            "1299   C:\\Users\\tanch\\Downloads\\simulator-windows-64...   \n",
            "1300   C:\\Users\\tanch\\Downloads\\simulator-windows-64...   \n",
            "1301   C:\\Users\\tanch\\Downloads\\simulator-windows-64...   \n",
            "1302   C:\\Users\\tanch\\Downloads\\simulator-windows-64...   \n",
            "\n",
            "                                                  right  steering  throttle  \\\n",
            "0      C:\\Users\\tanch\\Downloads\\simulator-windows-64...       0.0       0.0   \n",
            "1      C:\\Users\\tanch\\Downloads\\simulator-windows-64...       0.0       0.0   \n",
            "2      C:\\Users\\tanch\\Downloads\\simulator-windows-64...       0.0       0.0   \n",
            "3      C:\\Users\\tanch\\Downloads\\simulator-windows-64...       0.0       0.0   \n",
            "4      C:\\Users\\tanch\\Downloads\\simulator-windows-64...       0.0       0.0   \n",
            "...                                                 ...       ...       ...   \n",
            "1298   C:\\Users\\tanch\\Downloads\\simulator-windows-64...       0.0       0.0   \n",
            "1299   C:\\Users\\tanch\\Downloads\\simulator-windows-64...       0.0       0.0   \n",
            "1300   C:\\Users\\tanch\\Downloads\\simulator-windows-64...       0.0       0.0   \n",
            "1301   C:\\Users\\tanch\\Downloads\\simulator-windows-64...       0.0       0.0   \n",
            "1302   C:\\Users\\tanch\\Downloads\\simulator-windows-64...       0.0       0.0   \n",
            "\n",
            "      reverse      speed  \n",
            "0           0   0.000079  \n",
            "1           0   0.000078  \n",
            "2           0   0.000080  \n",
            "3           0   0.000078  \n",
            "4           0   0.000079  \n",
            "...       ...        ...  \n",
            "1298        0  24.805020  \n",
            "1299        0  24.555970  \n",
            "1300        0  24.260420  \n",
            "1301        0  24.016840  \n",
            "1302        0  23.775710  \n",
            "\n",
            "[1303 rows x 7 columns]>\n"
          ]
        }
      ]
    },
    {
      "cell_type": "code",
      "source": [
        "def path_leaf(path):\n",
        "  head, tail = ntpath.split(path)\n",
        "  return tail"
      ],
      "metadata": {
        "id": "jsO56XK-QvIn"
      },
      "execution_count": 6,
      "outputs": []
    },
    {
      "cell_type": "code",
      "source": [
        "data['center'] = data['center'].apply(path_leaf)\n",
        "data['left'] = data['left'].apply(path_leaf)\n",
        "data['right'] = data['right'].apply(path_leaf)\n"
      ],
      "metadata": {
        "id": "8J2ZeyuoQ61R"
      },
      "execution_count": 7,
      "outputs": []
    },
    {
      "cell_type": "code",
      "source": [
        "print(data.head)"
      ],
      "metadata": {
        "colab": {
          "base_uri": "https://localhost:8080/"
        },
        "id": "gHZPWPceRX0e",
        "outputId": "2d00f362-3229-47d6-a465-5f03ae878488"
      },
      "execution_count": 8,
      "outputs": [
        {
          "output_type": "stream",
          "name": "stdout",
          "text": [
            "<bound method NDFrame.head of                                   center                              left  \\\n",
            "0     center_2024_01_10_15_14_02_120.jpg  left_2024_01_10_15_14_02_120.jpg   \n",
            "1     center_2024_01_10_15_14_02_223.jpg  left_2024_01_10_15_14_02_223.jpg   \n",
            "2     center_2024_01_10_15_14_02_325.jpg  left_2024_01_10_15_14_02_325.jpg   \n",
            "3     center_2024_01_10_15_14_02_427.jpg  left_2024_01_10_15_14_02_427.jpg   \n",
            "4     center_2024_01_10_15_14_02_529.jpg  left_2024_01_10_15_14_02_529.jpg   \n",
            "...                                  ...                               ...   \n",
            "1298  center_2024_01_10_15_16_16_758.jpg  left_2024_01_10_15_16_16_758.jpg   \n",
            "1299  center_2024_01_10_15_16_16_859.jpg  left_2024_01_10_15_16_16_859.jpg   \n",
            "1300  center_2024_01_10_15_16_16_963.jpg  left_2024_01_10_15_16_16_963.jpg   \n",
            "1301  center_2024_01_10_15_16_17_065.jpg  left_2024_01_10_15_16_17_065.jpg   \n",
            "1302  center_2024_01_10_15_16_17_168.jpg  left_2024_01_10_15_16_17_168.jpg   \n",
            "\n",
            "                                  right  steering  throttle  reverse  \\\n",
            "0     right_2024_01_10_15_14_02_120.jpg       0.0       0.0        0   \n",
            "1     right_2024_01_10_15_14_02_223.jpg       0.0       0.0        0   \n",
            "2     right_2024_01_10_15_14_02_325.jpg       0.0       0.0        0   \n",
            "3     right_2024_01_10_15_14_02_427.jpg       0.0       0.0        0   \n",
            "4     right_2024_01_10_15_14_02_529.jpg       0.0       0.0        0   \n",
            "...                                 ...       ...       ...      ...   \n",
            "1298  right_2024_01_10_15_16_16_758.jpg       0.0       0.0        0   \n",
            "1299  right_2024_01_10_15_16_16_859.jpg       0.0       0.0        0   \n",
            "1300  right_2024_01_10_15_16_16_963.jpg       0.0       0.0        0   \n",
            "1301  right_2024_01_10_15_16_17_065.jpg       0.0       0.0        0   \n",
            "1302  right_2024_01_10_15_16_17_168.jpg       0.0       0.0        0   \n",
            "\n",
            "          speed  \n",
            "0      0.000079  \n",
            "1      0.000078  \n",
            "2      0.000080  \n",
            "3      0.000078  \n",
            "4      0.000079  \n",
            "...         ...  \n",
            "1298  24.805020  \n",
            "1299  24.555970  \n",
            "1300  24.260420  \n",
            "1301  24.016840  \n",
            "1302  23.775710  \n",
            "\n",
            "[1303 rows x 7 columns]>\n"
          ]
        }
      ]
    },
    {
      "cell_type": "code",
      "source": [
        "num_bins = 25\n",
        "hist, bins = np.histogram(data['steering'], num_bins)\n",
        "print(bins)"
      ],
      "metadata": {
        "colab": {
          "base_uri": "https://localhost:8080/"
        },
        "id": "XinDuTAeDRBz",
        "outputId": "789b935b-ed9b-4058-fedd-5f8a0a974737"
      },
      "execution_count": 9,
      "outputs": [
        {
          "output_type": "stream",
          "name": "stdout",
          "text": [
            "[-7.6782610e-01 -6.9795662e-01 -6.2808714e-01 -5.5821766e-01\n",
            " -4.8834818e-01 -4.1847870e-01 -3.4860922e-01 -2.7873974e-01\n",
            " -2.0887026e-01 -1.3900078e-01 -6.9131300e-02  7.3818000e-04\n",
            "  7.0607660e-02  1.4047714e-01  2.1034662e-01  2.8021610e-01\n",
            "  3.5008558e-01  4.1995506e-01  4.8982454e-01  5.5969402e-01\n",
            "  6.2956350e-01  6.9943298e-01  7.6930246e-01  8.3917194e-01\n",
            "  9.0904142e-01  9.7891090e-01]\n"
          ]
        }
      ]
    },
    {
      "cell_type": "code",
      "source": [
        "centre = (bins[:-1] + bins[1:])*0.5\n",
        "samples_per_bin = 250\n",
        "plt.bar(centre, hist, width=0.05)\n",
        "plt.plot((np.min(data['steering']), np.max(data['steering'])), (samples_per_bin, samples_per_bin))"
      ],
      "metadata": {
        "colab": {
          "base_uri": "https://localhost:8080/",
          "height": 447
        },
        "id": "3rrfg0pdDS9j",
        "outputId": "e574a759-bb74-465f-a120-9afafb53dbc9"
      },
      "execution_count": 10,
      "outputs": [
        {
          "output_type": "execute_result",
          "data": {
            "text/plain": [
              "[<matplotlib.lines.Line2D at 0x7807dcdf2ef0>]"
            ]
          },
          "metadata": {},
          "execution_count": 10
        },
        {
          "output_type": "display_data",
          "data": {
            "text/plain": [
              "<Figure size 640x480 with 1 Axes>"
            ],
            "image/png": "[encoded data removed]"
          },
          "metadata": {}
        }
      ]
    },
    {
      "cell_type": "code",
      "source": [
        "remove_list = []\n",
        "for j in range(num_bins):\n",
        "  list_ = []\n",
        "  for i in range(len(data['steering'])):\n",
        "    if bins[j] <= data['steering'][i] <= bins[j+1]:\n",
        "      list_.append(i)\n",
        "  list_ = shuffle(list_)\n",
        "  list_ = list_[samples_per_bin:]\n",
        "  remove_list.extend(list_)"
      ],
      "metadata": {
        "id": "xJXR76HaDZ58"
      },
      "execution_count": 11,
      "outputs": []
    },
    {
      "cell_type": "code",
      "source": [
        "print(\"Removed: \", len(remove_list))\n",
        "data.drop(data.index[remove_list], inplace = True)\n",
        "print(\"Remaining: \", len(data))"
      ],
      "metadata": {
        "colab": {
          "base_uri": "https://localhost:8080/"
        },
        "id": "rCvNYz4-DhJx",
        "outputId": "d3f5af0c-9434-476c-a197-a10d168d5335"
      },
      "execution_count": 12,
      "outputs": [
        {
          "output_type": "stream",
          "name": "stdout",
          "text": [
            "Removed:  759\n",
            "Remaining:  544\n"
          ]
        }
      ]
    },
    {
      "cell_type": "code",
      "source": [
        "hist, bins = np.histogram(data['steering'], num_bins)\n",
        "plt.bar(centre, hist, width=0.05)\n",
        "plt.plot((np.min(data['steering']), np.max(data['steering'])), (samples_per_bin, samples_per_bin))"
      ],
      "metadata": {
        "colab": {
          "base_uri": "https://localhost:8080/",
          "height": 447
        },
        "id": "tsJp4bQ4DmEz",
        "outputId": "8d964e7a-bd3b-47af-c9b7-e32d85fc41ac"
      },
      "execution_count": 13,
      "outputs": [
        {
          "output_type": "execute_result",
          "data": {
            "text/plain": [
              "[<matplotlib.lines.Line2D at 0x7807dda0aa10>]"
            ]
          },
          "metadata": {},
          "execution_count": 13
        },
        {
          "output_type": "display_data",
          "data": {
            "text/plain": [
              "<Figure size 640x480 with 1 Axes>"
            ],
            "image/png": "[encoded data removed]"
          },
          "metadata": {}
        }
      ]
    },
    {
      "cell_type": "code",
      "source": [
        "# Training and Validation split\n",
        "def load_img_steering(datadir, df):\n",
        "  image_path = []\n",
        "  steering = []\n",
        "  for i in range(len(data)):\n",
        "    indexed_data = data.iloc[i]\n",
        "    center, left, right = indexed_data[0], indexed_data[1], indexed_data[2]\n",
        "    image_path.append(os.path.join(datadir, center.strip()))\n",
        "    steering.append(float(indexed_data[3]))\n",
        "  image_paths = np.asarray(image_path)\n",
        "  steerings = np.asarray(steering)\n",
        "  return image_paths, steerings"
      ],
      "metadata": {
        "id": "9H0YurJWDsAV"
      },
      "execution_count": 14,
      "outputs": []
    },
    {
      "cell_type": "code",
      "source": [
        "image_paths, steerings = load_img_steering(datadir+'/IMG', data)\n",
        "X_train, X_valid, y_train, y_valid = train_test_split(image_paths, steerings, test_size=0.2, random_state=6)"
      ],
      "metadata": {
        "id": "R_gLPblaDxGo"
      },
      "execution_count": 15,
      "outputs": []
    },
    {
      "cell_type": "code",
      "source": [
        "print(f\"Traing samples {len(X_train)}, validation samples {len(X_valid)}\")"
      ],
      "metadata": {
        "colab": {
          "base_uri": "https://localhost:8080/"
        },
        "id": "RcoeXUoEDz5w",
        "outputId": "50bcbbec-8912-4c41-ac34-a8facf655a08"
      },
      "execution_count": 16,
      "outputs": [
        {
          "output_type": "stream",
          "name": "stdout",
          "text": [
            "Traing samples 435, validation samples 109\n"
          ]
        }
      ]
    },
    {
      "cell_type": "code",
      "source": [
        "fig, axes = plt.subplots(1, 2, figsize=(12,4))\n",
        "axes[0].hist(y_train, bins = num_bins, width=0.05, color='blue')\n",
        "axes[0].set_title('Training set')\n",
        "axes[1].hist(y_valid, bins = num_bins, width=0.05, color='red')\n",
        "axes[1].set_title('Validation set')"
      ],
      "metadata": {
        "colab": {
          "base_uri": "https://localhost:8080/",
          "height": 408
        },
        "id": "ZRl9dQNMD1TE",
        "outputId": "0ec99801-7b29-4acc-90e5-785a28acb6c4"
      },
      "execution_count": 17,
      "outputs": [
        {
          "output_type": "execute_result",
          "data": {
            "text/plain": [
              "Text(0.5, 1.0, 'Validation set')"
            ]
          },
          "metadata": {},
          "execution_count": 17
        },
        {
          "output_type": "display_data",
          "data": {
            "text/plain": [
              "<Figure size 1200x400 with 2 Axes>"
            ],
            "image/png": "[encoded data removed]"
          },
          "metadata": {}
        }
      ]
    }
  ],
  "metadata": {
    "accelerator": "GPU",
    "colab": {
      "gpuType": "T4",
      "provenance": [],
      "include_colab_link": true
    },
    "kernelspec": {
      "display_name": "Python 3",
      "name": "python3"
    },
    "language_info": {
      "codemirror_mode": {
        "name": "ipython",
        "version": 3
      },
      "file_extension": ".py",
      "mimetype": "text/x-python",
      "name": "python",
      "nbconvert_exporter": "python",
      "pygments_lexer": "ipython3",
      "version": "3.11.6"
    }
  },
  "nbformat": 4,
  "nbformat_minor": 0
}