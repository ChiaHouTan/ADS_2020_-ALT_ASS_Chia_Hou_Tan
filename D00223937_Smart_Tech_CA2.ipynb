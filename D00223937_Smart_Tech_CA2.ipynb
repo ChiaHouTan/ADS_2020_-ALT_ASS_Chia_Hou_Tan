{
  "cells": [
    {
      "cell_type": "markdown",
      "metadata": {
        "id": "view-in-github",
        "colab_type": "text"
      },
      "source": [
        "<a href=\"https://colab.research.google.com/github/ChiaHouTan/ADS_2020_-ALT_ASS_Chia_Hou_Tan/blob/master/D00223937_Smart_Tech_CA2.ipynb\" target=\"_parent\"><img src=\"https://colab.research.google.com/assets/colab-badge.svg\" alt=\"Open In Colab\"/></a>"
      ]
    },
    {
      "cell_type": "code",
      "source": [
        "!git clone https://github.com/ChiaHouTan/SmartTechCa2.git"
      ],
      "metadata": {
        "colab": {
          "base_uri": "https://localhost:8080/"
        },
        "id": "yftadowTWln6",
        "outputId": "0d23f9e1-c454-4d88-a291-7d700f481421"
      },
      "execution_count": 1,
      "outputs": [
        {
          "output_type": "stream",
          "name": "stdout",
          "text": [
            "Cloning into 'SmartTechCa2'...\n",
            "remote: Enumerating objects: 5946, done.\u001b[K\n",
            "remote: Counting objects: 100% (9/9), done.\u001b[K\n",
            "remote: Compressing objects: 100% (7/7), done.\u001b[K\n",
            "remote: Total 5946 (delta 1), reused 3 (delta 0), pack-reused 5937\u001b[K\n",
            "Receiving objects: 100% (5946/5946), 87.59 MiB | 16.43 MiB/s, done.\n",
            "Resolving deltas: 100% (1/1), done.\n",
            "Updating files: 100% (5937/5937), done.\n"
          ]
        }
      ]
    },
    {
      "cell_type": "code",
      "source": [
        "!ls"
      ],
      "metadata": {
        "colab": {
          "base_uri": "https://localhost:8080/"
        },
        "id": "cVmAmnAN_lkO",
        "outputId": "3712dcc6-3d07-40d8-bb99-f9017e80db28"
      },
      "execution_count": 2,
      "outputs": [
        {
          "output_type": "stream",
          "name": "stdout",
          "text": [
            "sample_data  SmartTechCa2\n"
          ]
        }
      ]
    },
    {
      "cell_type": "code",
      "execution_count": 3,
      "metadata": {
        "id": "NhFuT3pd8A6s"
      },
      "outputs": [],
      "source": [
        "import numpy as np\n",
        "import matplotlib.pyplot as plt\n",
        "import keras\n",
        "from keras.models import Sequential\n",
        "from keras.optimizers import Adam\n",
        "from keras.layers import Dense, Convolution2D, MaxPooling2D, Dropout, Flatten\n",
        "import cv2\n",
        "import pandas as pd\n",
        "import random\n",
        "import os\n",
        "import ntpath\n",
        "from sklearn.utils import shuffle\n",
        "from sklearn.model_selection import train_test_split\n",
        "import matplotlib.image as mpimg\n",
        "\n",
        "#git add .\n",
        "#git status\n",
        "#git commit -m \"First Commit\" then after finish everything do below\n",
        "#git branch -M main\n",
        "#git push -uf origin main"
      ]
    },
    {
      "cell_type": "code",
      "source": [
        "datadir = \"SmartTechCa2\" #data of car picture\n",
        "columns = ['center', 'left', 'right', 'steering', 'throttle', 'reverse', 'speed']\n",
        "data = pd.read_csv(os.path.join(datadir, 'driving_log.csv'), names = columns)\n",
        "print(data.head)"
      ],
      "metadata": {
        "colab": {
          "base_uri": "https://localhost:8080/"
        },
        "id": "Ilqeo0PhAW7U",
        "outputId": "7e12d433-4825-4547-e3b3-4d067b6b2efe"
      },
      "execution_count": 4,
      "outputs": [
        {
          "output_type": "stream",
          "name": "stdout",
          "text": [
            "<bound method NDFrame.head of                                                  center  \\\n",
            "0     C:\\Users\\tanch\\Downloads\\simulator-windows-64\\...   \n",
            "1     C:\\Users\\tanch\\Downloads\\simulator-windows-64\\...   \n",
            "2     C:\\Users\\tanch\\Downloads\\simulator-windows-64\\...   \n",
            "3     C:\\Users\\tanch\\Downloads\\simulator-windows-64\\...   \n",
            "4     C:\\Users\\tanch\\Downloads\\simulator-windows-64\\...   \n",
            "...                                                 ...   \n",
            "1298  C:\\Users\\tanch\\Downloads\\simulator-windows-64\\...   \n",
            "1299  C:\\Users\\tanch\\Downloads\\simulator-windows-64\\...   \n",
            "1300  C:\\Users\\tanch\\Downloads\\simulator-windows-64\\...   \n",
            "1301  C:\\Users\\tanch\\Downloads\\simulator-windows-64\\...   \n",
            "1302  C:\\Users\\tanch\\Downloads\\simulator-windows-64\\...   \n",
            "\n",
            "                                                   left  \\\n",
            "0      C:\\Users\\tanch\\Downloads\\simulator-windows-64...   \n",
            "1      C:\\Users\\tanch\\Downloads\\simulator-windows-64...   \n",
            "2      C:\\Users\\tanch\\Downloads\\simulator-windows-64...   \n",
            "3      C:\\Users\\tanch\\Downloads\\simulator-windows-64...   \n",
            "4      C:\\Users\\tanch\\Downloads\\simulator-windows-64...   \n",
            "...                                                 ...   \n",
            "1298   C:\\Users\\tanch\\Downloads\\simulator-windows-64...   \n",
            "1299   C:\\Users\\tanch\\Downloads\\simulator-windows-64...   \n",
            "1300   C:\\Users\\tanch\\Downloads\\simulator-windows-64...   \n",
            "1301   C:\\Users\\tanch\\Downloads\\simulator-windows-64...   \n",
            "1302   C:\\Users\\tanch\\Downloads\\simulator-windows-64...   \n",
            "\n",
            "                                                  right  steering  throttle  \\\n",
            "0      C:\\Users\\tanch\\Downloads\\simulator-windows-64...       0.0       0.0   \n",
            "1      C:\\Users\\tanch\\Downloads\\simulator-windows-64...       0.0       0.0   \n",
            "2      C:\\Users\\tanch\\Downloads\\simulator-windows-64...       0.0       0.0   \n",
            "3      C:\\Users\\tanch\\Downloads\\simulator-windows-64...       0.0       0.0   \n",
            "4      C:\\Users\\tanch\\Downloads\\simulator-windows-64...       0.0       0.0   \n",
            "...                                                 ...       ...       ...   \n",
            "1298   C:\\Users\\tanch\\Downloads\\simulator-windows-64...       0.0       0.0   \n",
            "1299   C:\\Users\\tanch\\Downloads\\simulator-windows-64...       0.0       0.0   \n",
            "1300   C:\\Users\\tanch\\Downloads\\simulator-windows-64...       0.0       0.0   \n",
            "1301   C:\\Users\\tanch\\Downloads\\simulator-windows-64...       0.0       0.0   \n",
            "1302   C:\\Users\\tanch\\Downloads\\simulator-windows-64...       0.0       0.0   \n",
            "\n",
            "      reverse      speed  \n",
            "0           0   0.000079  \n",
            "1           0   0.000078  \n",
            "2           0   0.000080  \n",
            "3           0   0.000078  \n",
            "4           0   0.000079  \n",
            "...       ...        ...  \n",
            "1298        0  24.805020  \n",
            "1299        0  24.555970  \n",
            "1300        0  24.260420  \n",
            "1301        0  24.016840  \n",
            "1302        0  23.775710  \n",
            "\n",
            "[1303 rows x 7 columns]>\n"
          ]
        }
      ]
    },
    {
      "cell_type": "code",
      "source": [],
      "metadata": {
        "id": "GINDtSN6CloV"
      },
      "execution_count": null,
      "outputs": []
    }
  ],
  "metadata": {
    "accelerator": "GPU",
    "colab": {
      "gpuType": "T4",
      "provenance": [],
      "include_colab_link": true
    },
    "kernelspec": {
      "display_name": "Python 3",
      "name": "python3"
    },
    "language_info": {
      "codemirror_mode": {
        "name": "ipython",
        "version": 3
      },
      "file_extension": ".py",
      "mimetype": "text/x-python",
      "name": "python",
      "nbconvert_exporter": "python",
      "pygments_lexer": "ipython3",
      "version": "3.11.6"
    }
  },
  "nbformat": 4,
  "nbformat_minor": 0
}